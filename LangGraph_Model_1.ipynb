{
  "nbformat": 4,
  "nbformat_minor": 0,
  "metadata": {
    "colab": {
      "provenance": []
    },
    "kernelspec": {
      "name": "python3",
      "display_name": "Python 3"
    },
    "language_info": {
      "name": "python"
    }
  },
  "cells": [
    {
      "cell_type": "markdown",
      "source": [
        "## LangGraph Full Setup\n"
      ],
      "metadata": {
        "id": "MDeZV73lOXEh"
      }
    },
    {
      "cell_type": "code",
      "execution_count": 3,
      "metadata": {
        "id": "iFaF_e_FOUUr"
      },
      "outputs": [],
      "source": [
        "%pip install --quiet -U langchain_openai langchain_core langchain_community tavily-python"
      ]
    },
    {
      "cell_type": "code",
      "source": [
        "!pip install -q langchain_google_genai"
      ],
      "metadata": {
        "colab": {
          "base_uri": "https://localhost:8080/"
        },
        "id": "8u52pvXXOriZ",
        "outputId": "78692fa1-93dc-4eef-bed3-59cf08cc51e2"
      },
      "execution_count": 4,
      "outputs": [
        {
          "output_type": "stream",
          "name": "stdout",
          "text": [
            "\u001b[?25l   \u001b[90m━━━━━━━━━━━━━━━━━━━━━━━━━━━━━━━━━━━━━━━━\u001b[0m \u001b[32m0.0/44.3 kB\u001b[0m \u001b[31m?\u001b[0m eta \u001b[36m-:--:--\u001b[0m\r\u001b[2K   \u001b[90m━━━━━━━━━━━━━━━━━━━━━━━━━━━━━━━━━━━━━━━━\u001b[0m \u001b[32m44.3/44.3 kB\u001b[0m \u001b[31m2.4 MB/s\u001b[0m eta \u001b[36m0:00:00\u001b[0m\n",
            "\u001b[?25h\u001b[?25l   \u001b[90m━━━━━━━━━━━━━━━━━━━━━━━━━━━━━━━━━━━━━━━━\u001b[0m \u001b[32m0.0/1.4 MB\u001b[0m \u001b[31m?\u001b[0m eta \u001b[36m-:--:--\u001b[0m\r\u001b[2K   \u001b[91m━━━━━━━━━━━━━━━━━━━━━━━━━━━━━━━━━━━━━━━\u001b[0m\u001b[91m╸\u001b[0m \u001b[32m1.4/1.4 MB\u001b[0m \u001b[31m44.4 MB/s\u001b[0m eta \u001b[36m0:00:01\u001b[0m\r\u001b[2K   \u001b[90m━━━━━━━━━━━━━━━━━━━━━━━━━━━━━━━━━━━━━━━━\u001b[0m \u001b[32m1.4/1.4 MB\u001b[0m \u001b[31m28.7 MB/s\u001b[0m eta \u001b[36m0:00:00\u001b[0m\n",
            "\u001b[?25h\u001b[31mERROR: pip's dependency resolver does not currently take into account all the packages that are installed. This behaviour is the source of the following dependency conflicts.\n",
            "google-generativeai 0.8.5 requires google-ai-generativelanguage==0.6.15, but you have google-ai-generativelanguage 0.6.18 which is incompatible.\u001b[0m\u001b[31m\n",
            "\u001b[0m"
          ]
        }
      ]
    },
    {
      "cell_type": "code",
      "source": [
        "from langchain_google_genai import ChatGoogleGenerativeAI"
      ],
      "metadata": {
        "id": "w6Az7ucMPe3d"
      },
      "execution_count": 5,
      "outputs": []
    },
    {
      "cell_type": "code",
      "source": [
        "from google.colab import userdata\n",
        "gemini_api_key = userdata.get(\"GEMINI_API_KEY\")"
      ],
      "metadata": {
        "id": "ifdWFYeoO2h0"
      },
      "execution_count": 6,
      "outputs": []
    },
    {
      "cell_type": "code",
      "source": [
        "llm = ChatGoogleGenerativeAI(\n",
        "    model = \"gemini-1.5-flash\",\n",
        "    api_key = gemini_api_key,\n",
        "    temperature = 0\n",
        ")"
      ],
      "metadata": {
        "id": "Zg_jn79ePczM"
      },
      "execution_count": 7,
      "outputs": []
    },
    {
      "cell_type": "code",
      "source": [
        "result = llm.invoke(\"Hi\")"
      ],
      "metadata": {
        "id": "CP3Xfd1sQV0H"
      },
      "execution_count": 8,
      "outputs": []
    },
    {
      "cell_type": "code",
      "source": [
        "result"
      ],
      "metadata": {
        "colab": {
          "base_uri": "https://localhost:8080/"
        },
        "id": "shqFaXmWQfjF",
        "outputId": "d40a68d6-da09-4e8f-dd29-0fec845c6340"
      },
      "execution_count": 9,
      "outputs": [
        {
          "output_type": "execute_result",
          "data": {
            "text/plain": [
              "AIMessage(content='Hi there! How can I help you today?', additional_kwargs={}, response_metadata={'prompt_feedback': {'block_reason': 0, 'safety_ratings': []}, 'finish_reason': 'STOP', 'model_name': 'gemini-1.5-flash', 'safety_ratings': []}, id='run--31dcb6ce-b80b-4213-9c27-96e2928daf94-0', usage_metadata={'input_tokens': 1, 'output_tokens': 11, 'total_tokens': 12, 'input_token_details': {'cache_read': 0}})"
            ]
          },
          "metadata": {},
          "execution_count": 9
        }
      ]
    },
    {
      "cell_type": "code",
      "source": [
        "from langchain_core.messages import HumanMessage,AIMessage\n",
        "# create a message\n",
        "\n",
        "#  Message List\n",
        "messages = [\n",
        "    HumanMessage(content=\"Hi\", name=\"Human Student\"),\n",
        "    AIMessage(content='Hi there! How can I help you today?\\n', name=\"AI Assistant\"),\n",
        "    HumanMessage(content=\"what is Langchain?\", name = \"Human Student\"),\n",
        "    AIMessage(content='LangChain is a framework for developing applications powered by language models.', name = \"AI Assistant\"),\n",
        "    HumanMessage(content = \"How can I learn \", name = \"Human Student\")\n",
        "\n",
        "]\n",
        "# invoke the mdek with a list of messages\n",
        "llm.invoke(messages)"
      ],
      "metadata": {
        "colab": {
          "base_uri": "https://localhost:8080/"
        },
        "id": "MeMFO5g9QgWA",
        "outputId": "88c351d9-fa13-4f1f-f466-89ad5511592b"
      },
      "execution_count": 9,
      "outputs": [
        {
          "output_type": "execute_result",
          "data": {
            "text/plain": [
              "AIMessage(content='There are several ways to learn LangChain, depending on your learning style and prior experience:\\n\\n**1. Official Documentation:** The best place to start is the official LangChain documentation.  It\\'s well-structured and provides comprehensive tutorials and examples.  Look for their \"Getting Started\" guides and work your way through the examples.\\n\\n**2. Tutorials and Blog Posts:** Many tutorials and blog posts are available online that cover various aspects of LangChain. Search for \"LangChain tutorial\" or \"LangChain example\" on Google, YouTube, or Medium.  Look for tutorials that focus on specific use cases that interest you, such as building a chatbot or a question-answering system.\\n\\n**3. GitHub Repository:** Explore the LangChain GitHub repository.  You can find the source code, contribute to the project, and see how different components are implemented.  Reading the code can be a great way to deepen your understanding.\\n\\n**4. Example Projects:**  The best way to learn is by doing.  Start with a simple project, such as building a basic chatbot or a simple question-answering system.  Gradually increase the complexity of your projects as you gain more experience.  The LangChain documentation provides many examples to get you started.\\n\\n**5. Courses (Online):** While there aren\\'t many dedicated LangChain courses yet, keep an eye out on platforms like Udemy, Coursera, and edX.  As LangChain gains popularity, more dedicated courses will likely emerge.  In the meantime, courses on related topics like natural language processing (NLP) and Python programming will be helpful.\\n\\n**6. Community:** Engage with the LangChain community.  Join their Discord server or other online forums to ask questions, share your work, and learn from others.\\n\\n\\n**To effectively learn LangChain, you should have a foundation in:**\\n\\n* **Python:** LangChain is a Python library, so a good understanding of Python programming is essential.\\n* **Natural Language Processing (NLP):**  A basic understanding of NLP concepts will help you understand how LangChain interacts with language models.\\n* **LLMs (Large Language Models):** Familiarity with LLMs like GPT-3, LLaMA, etc., will be beneficial.\\n\\n\\nStart with the official documentation and a simple project.  Don\\'t be afraid to experiment and ask questions.  The LangChain community is generally very helpful.', additional_kwargs={}, response_metadata={'prompt_feedback': {'block_reason': 0, 'safety_ratings': []}, 'finish_reason': 'STOP', 'model_name': 'gemini-1.5-flash', 'safety_ratings': []}, id='run--61ecfb09-7d39-4235-8f68-3ee6b0bb0faa-0', usage_metadata={'input_tokens': 35, 'output_tokens': 497, 'total_tokens': 532, 'input_token_details': {'cache_read': 0}})"
            ]
          },
          "metadata": {},
          "execution_count": 9
        }
      ]
    },
    {
      "cell_type": "code",
      "source": [
        " from google.colab import userdata\n",
        " TAVILY_API_KEY = userdata.get('TIVILY_API_KEY')"
      ],
      "metadata": {
        "id": "xBJ9U3EdRS-M"
      },
      "execution_count": 13,
      "outputs": []
    },
    {
      "cell_type": "code",
      "source": [
        "from langchain_community.tools.tavily_search import TavilySearchResults\n",
        "\n",
        "# Changed api_key to tavily_api_key\n",
        "tavily_search = TavilySearchResults(max_results = 3, tavily_api_key = TAVILY_API_KEY)\n",
        "\n",
        "search_docs = tavily_search.invoke(\"Price of gold today ?\")"
      ],
      "metadata": {
        "id": "2gD1wkAXcMzO"
      },
      "execution_count": 19,
      "outputs": []
    },
    {
      "cell_type": "code",
      "source": [
        "search_docs"
      ],
      "metadata": {
        "colab": {
          "base_uri": "https://localhost:8080/"
        },
        "id": "Pz6jX_zKc4Fg",
        "outputId": "86c04a5e-04b0-41eb-fd1c-cf6462fde84d"
      },
      "execution_count": 20,
      "outputs": [
        {
          "output_type": "execute_result",
          "data": {
            "text/plain": [
              "[{'title': 'Gold Price Today - Live Gold Spot Price Charts - JM Bullion',\n",
              "  'url': 'https://www.jmbullion.com/charts/gold-price/',\n",
              "  'content': 'As of May 17, 2025 at 4:00 AM ET, the live gold spot price for 1 ounce of gold in U.S. dollars (USD) is $3,156.24, 1 gram of gold is $101.48, and 1 kilogram of',\n",
              "  'score': 0.846159},\n",
              " {'title': 'Live Gold Spot Price | Price Charts per Ounce/Gram - Monex',\n",
              "  'url': 'https://www.monex.com/gold-prices/?srsltid=AfmBOoq-v4gFUTrllddkZN9AuWcT4Y8G-rJpvyqC7N2fNKCWJnRuoaLx',\n",
              "  'content': \"Gold Spot Prices | Today | Change\\nGold Prices Per Ounce | $3,202.00 | -42.00\\nGold Prices Per Gram | $102.95 | -1.35\\nGold Prices Per Kilo | $102,944.30 | -1,350.30\\nMonex Live Gold Spot Prices\\n\\nThe Value of Precious Metals at Today's Price\\n\\nMonex Gold Product Prices\\n\\nWe provide gold investors with up to the minute live gold product prices on in-demand gold bullion bas and coins.\\n\\nGold1 Kilo  Bullion Bar\\n\\nGold10 oz  Bullion Bar\\n\\nGold1 oz  Bullion Bar\\n\\nGoldAmerican Eagle Coin [...] How do I start investing in gold?\\n\\nAre you interested in getting started? Give Monex a call at 800-444-8317 and speak with one of our knowledgeable Account Representatives about investing in gold. Discover more about our exceptional two-way buy/sell market and our quality gold products, and the price of gold today, as well as the benefits that investing in precious metals may add to a traditional investment portfolio.\\n\\nShould I buy gold bars or gold coins? [...] Much of gold's value comes from its scarcity. Research suggests that if you added up the world’s holdings of gold throughout all of history, you would only get about 120,000 metric tons. And to understand how gold is still scarce today, consider that every year the world’s supply of gold increases 2,000 tons, in contrast to American steel which increases an average of 10,500 tons per hour!\",\n",
              "  'score': 0.8232293},\n",
              " {'title': 'Live Gold Price Chart. Buy Gold Bars and Coins Online.',\n",
              "  'url': 'https://bullionexchanges.com/charts/gold-price',\n",
              "  'content': 'LIVE GOLD SPOT PRICE CHART ; Gold Per Oz. $3242.20. $44.40 ; Gold Per Gram. $104.24. $1.43 ; Gold Per Kilo. $104,239.15. $1,427.49.',\n",
              "  'score': 0.7498395}]"
            ]
          },
          "metadata": {},
          "execution_count": 20
        }
      ]
    },
    {
      "cell_type": "code",
      "source": [
        "lk"
      ],
      "metadata": {
        "id": "OYr3MsPzdoIo"
      },
      "execution_count": null,
      "outputs": []
    }
  ]
}